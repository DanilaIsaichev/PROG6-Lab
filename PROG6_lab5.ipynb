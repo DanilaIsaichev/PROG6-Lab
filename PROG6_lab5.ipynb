{
  "cells": [
    {
      "cell_type": "code",
      "execution_count": null,
      "metadata": {
        "id": "EKtx43-MI4Di"
      },
      "outputs": [],
      "source": [
        "import pandas as pd\n",
        "import scipy as sp\n",
        "\n",
        "import matplotlib.pyplot as plt"
      ]
    },
    {
      "cell_type": "code",
      "execution_count": null,
      "metadata": {
        "id": "Z8CznRh3K-wN"
      },
      "outputs": [],
      "source": [
        "%matplotlib inline"
      ]
    },
    {
      "cell_type": "code",
      "execution_count": null,
      "metadata": {
        "colab": {
          "base_uri": "https://localhost:8080/"
        },
        "id": "cel8KXOnK-46",
        "outputId": "761e8d10-9c70-409f-f613-32cc775196cc"
      },
      "outputs": [
        {
          "output_type": "stream",
          "name": "stdout",
          "text": [
            "0        1\n",
            "2        3\n",
            "3        4\n",
            "4        5\n",
            "5        6\n",
            "      ... \n",
            "738    739\n",
            "739    740\n",
            "740    741\n",
            "741    742\n",
            "742    743\n",
            "Name: hour, Length: 735, dtype: int64\n",
            "0      2272.0\n",
            "2      1386.0\n",
            "3      1365.0\n",
            "4      1488.0\n",
            "5      1337.0\n",
            "        ...  \n",
            "738    4970.0\n",
            "739    4813.0\n",
            "740    5392.0\n",
            "741    5906.0\n",
            "742    4881.0\n",
            "Name: requests, Length: 735, dtype: float64\n"
          ]
        },
        {
          "output_type": "execute_result",
          "data": {
            "text/plain": [
              "0    2272.0\n",
              "2    1386.0\n",
              "3    1365.0\n",
              "4    1488.0\n",
              "5    1337.0\n",
              "Name: requests, dtype: float64"
            ]
          },
          "metadata": {},
          "execution_count": 7
        }
      ],
      "source": [
        "data = pd.read_csv('/web_traffic.tsv',delimiter='\\t',names=[\"hour\", \"requests\"])\n",
        "\n",
        "import numpy as np\n",
        "from numpy import isnan\n",
        "\n",
        "target_var_name = 'requests'\n",
        "\n",
        "# Считываем данные без NaN с помощью dropna()\n",
        "hours_data = data.dropna()['hour']\n",
        "\n",
        "# Считываем данные без NaN с помощью dropna()\n",
        "requests_data = data.dropna()[target_var_name]\n",
        "\n",
        "#hours_data = hours_data[~isnan(requests_data)]\n",
        "#requests_data = requests_data[~isnan(requests_data)]\n",
        "#hours_data = hours_data[requests_data.dropna()]\n",
        "\n",
        "# Считываем данные без NaN с помощью dropna()\n",
        "#requests_data = requests_data.dropna()\n",
        "\n",
        "print(hours_data)\n",
        "print(requests_data)\n",
        "\n",
        "requests_data.head()"
      ]
    },
    {
      "cell_type": "code",
      "source": [
        "plt.scatter(hours_data, requests_data, s=3)\n",
        "plt.title('Трафик веб-сайта за последний месяц')\n",
        "\n",
        "plt.xlabel('время')\n",
        "plt.ylabel('запросы/час')\n",
        "\n",
        "plt.xticks([w*7*24 for w in range(10)],[\"неделя %i\" %w for w in range(10)])\n",
        "plt.autoscale(tight=False)\n",
        "\n",
        "plt.grid(True, linestyle='-', color='0.8')\n",
        "plt.show()"
      ],
      "metadata": {
        "colab": {
          "base_uri": "https://localhost:8080/",
          "height": 295
        },
        "id": "zn_wPpsRintx",
        "outputId": "ad6f4145-fd43-4c62-e653-5825f0ef62ea"
      },
      "execution_count": null,
      "outputs": [
        {
          "output_type": "display_data",
          "data": {
            "text/plain": [
              "<Figure size 432x288 with 1 Axes>"
            ],
            "image/png": "[encoded data removed]"
          },
          "metadata": {
            "needs_background": "light"
          }
        }
      ]
    },
    {
      "cell_type": "code",
      "source": [
        "from sklearn.metrics import mean_squared_error\n",
        "\n",
        "# MSE с помощью mean_squared_error из sklearn\n",
        "def error(f,x,y):\n",
        "    return mean_squared_error(y, f(x))\n",
        "\n",
        "#def error(f,x,y):\n",
        "#    return np.sum((f(x)-y)**2)\n",
        "\n",
        "# Рефакторинг этой функции: найти в документации каким образом \n",
        "# вычисляется mse с помощью функции из scipy"
      ],
      "metadata": {
        "id": "wRNxVRbHioOj"
      },
      "execution_count": null,
      "outputs": []
    },
    {
      "cell_type": "code",
      "source": [
        "# два предположения по поводу тренда: \n",
        "\n",
        "# 1 - предполагаем один тренд линейный или квадратичный тренд\n",
        "# 2 - не один тренд, а два - линейных или один линейный, а второй - квадратичный\n",
        "# где-то по границе 3.5 недели\n",
        "\n",
        "# вычисляем параметры модели #1 \n",
        "f1p, residuals, rank, sv, rcond = np.polyfit(hours_data, requests_data, 1, full=True)\n",
        "print(f\"Параметры модели 1:\\n{f1p}\\n\")\n",
        "\n",
        "# вычисляем параметры модели #2\n",
        "f2p, residuals, rank, sv, rcond = np.polyfit(hours_data, requests_data, 2, full=True)\n",
        "print(f\"Параметры модели 2:\\n{f2p}\\n\")\n",
        "\n",
        "# вычисляем параметры модели #3\n",
        "f3p, residuals, rank, sv, rcond = np.polyfit(hours_data, requests_data, 3, full=True)\n",
        "print(f\"Параметры модели 3:\\n{f3p}\\n\")\n",
        "\n",
        "# вычисляем параметры модели #4\n",
        "f4p, residuals, rank, sv, rcond = np.polyfit(hours_data, requests_data, 5, full=True)\n",
        "print(f\"Параметры модели 4:\\n{f4p}\\n\")\n",
        "\n",
        "# вычисляем параметры модели #5\n",
        "f5p, residuals, rank, sv, rcond = np.polyfit(hours_data, requests_data, 10, full=True)\n",
        "print(f\"Параметры модели 5:\\n{f5p}\\n\")\n",
        "\n",
        "# вычисляем параметры модели #6\n",
        "f6p, residuals, rank, sv, rcond = np.polyfit(hours_data, requests_data, 20, full=True)\n",
        "print(f\"Параметры модели 6:\\n{f6p}\\n\")"
      ],
      "metadata": {
        "colab": {
          "base_uri": "https://localhost:8080/"
        },
        "id": "Ne-EJtSOiqjw",
        "outputId": "ed1f9767-7ac1-49d5-b73f-680d7e817e2d"
      },
      "execution_count": null,
      "outputs": [
        {
          "output_type": "stream",
          "name": "stdout",
          "text": [
            "Параметры модели 1:\n",
            "[  2.59619213 989.02487106]\n",
            "\n",
            "Параметры модели 2:\n",
            "[ 1.05322215e-02 -5.26545650e+00  1.97476082e+03]\n",
            "\n",
            "Параметры модели 3:\n",
            "[ 3.04960132e-05 -2.35893797e-02  4.94226019e+00  1.33328797e+03]\n",
            "\n",
            "Параметры модели 4:\n",
            "[ 2.16470951e-10 -3.13405153e-07  1.63844797e-04 -3.41497485e-02\n",
            "  2.24785575e+00  1.53616050e+03]\n",
            "\n",
            "Параметры модели 5:\n",
            "[-3.73981968e-22  1.36473756e-18 -2.14294406e-15  1.89884971e-12\n",
            " -1.04570108e-09  3.70867731e-07 -8.45604588e-05  1.19167041e-02\n",
            " -9.41618606e-01  3.33703840e+01  1.26421204e+03]\n",
            "\n",
            "Параметры модели 6:\n",
            "[ 4.83090666e-47 -3.18254288e-43  8.87216773e-40 -1.31484635e-36\n",
            "  9.87793047e-34 -8.55503070e-32 -5.09644269e-28  3.80311873e-25\n",
            "  4.98732305e-23 -2.74831025e-19  2.35473549e-16 -1.17298303e-13\n",
            "  3.93132320e-11 -9.23453278e-09  1.52942330e-06 -1.76098283e-04\n",
            "  1.36396780e-02 -6.69561733e-01  1.86541701e+01 -2.35174285e+02\n",
            "  2.33820200e+03]\n",
            "\n"
          ]
        }
      ]
    },
    {
      "cell_type": "code",
      "source": [
        "# вычисляем ошибку модели #1 \n",
        "f1 = np.poly1d(f1p)\n",
        "print(f\"{error(f1, hours_data, requests_data):.5}\")\n",
        "\n",
        "# вычисляем ошибку модели #2 \n",
        "f2 = np.poly1d(f2p)\n",
        "print(f\"{error(f2, hours_data, requests_data):.5}\")\n",
        "\n",
        "# вычисляем ошибку модели #3 \n",
        "f3 = np.poly1d(f3p)\n",
        "print(f\"{error(f3, hours_data, requests_data):.5}\")\n",
        "\n",
        "# вычисляем ошибку модели #4 \n",
        "f4 = np.poly1d(f4p)\n",
        "print(f\"{error(f4, hours_data, requests_data):.5}\")\n",
        "\n",
        "# вычисляем ошибку модели #5 \n",
        "f5 = np.poly1d(f5p)\n",
        "print(f\"{error(f5, hours_data, requests_data):.5}\")\n",
        "\n",
        "# вычисляем ошибку модели #6\n",
        "f6 = np.poly1d(f6p)\n",
        "print(f\"{error(f6, hours_data, requests_data):.5}\")"
      ],
      "metadata": {
        "colab": {
          "base_uri": "https://localhost:8080/"
        },
        "id": "NI8MP3fIish5",
        "outputId": "5dc6fa47-39dc-4fa0-8507-ac2c3eb243b9"
      },
      "execution_count": null,
      "outputs": [
        {
          "output_type": "stream",
          "name": "stdout",
          "text": [
            "3.1739e+08\n",
            "1.7998e+08\n",
            "1.3935e+08\n",
            "1.2446e+08\n",
            "1.2194e+08\n",
            "1.1053e+08\n"
          ]
        }
      ]
    },
    {
      "cell_type": "code",
      "source": [
        "plt.title('Трафик веб-сайта за последний месяц')\n",
        "plt.xlabel('время')\n",
        "plt.ylabel('запросы/час')\n",
        "plt.xticks([w*7*24 for w in range(10)],[\"неделя %i\" %w for w in range(10)])\n",
        "plt.autoscale(tight=False)\n",
        "plt.grid(True, linestyle='-', color='0.8')\n",
        "\n",
        "# визуализация данных\n",
        "plt.scatter(hours_data, requests_data, s=3)\n",
        "\n",
        "# отобразим модель #1 \n",
        "f1x = np.linspace(0, hours_data[len(hours_data)], len(hours_data))\n",
        "f1y = f1(f1x)\n",
        "plt.plot(f1x, f1y, linewidth=1.0, color='black')\n",
        "\n",
        "# отобразим модель #2\n",
        "f2x = np.linspace(0, hours_data[len(hours_data)], len(hours_data))\n",
        "f2y = f2(f2x)\n",
        "plt.plot(f2x, f2y, linewidth=1.0, color='blue')\n",
        "\n",
        "# отобразим модель #3\n",
        "f3x = np.linspace(0, hours_data[len(hours_data)], len(hours_data))\n",
        "f3y = f3(f3x)\n",
        "plt.plot(f3x, f3y, linewidth=1.0, color='lime')\n",
        "\n",
        "# отобразим модель #4\n",
        "f4x = np.linspace(0, hours_data[len(hours_data)], len(hours_data))\n",
        "f4y = f4(f4x)\n",
        "plt.plot(f4x, f4y, linewidth=1.0, color='cyan')\n",
        "\n",
        "# отобразим модель #5\n",
        "f5x = np.linspace(0, hours_data[len(hours_data)], len(hours_data))\n",
        "f5y = f5(f5x)\n",
        "plt.plot(f5x, f5y, linewidth=1.0, color='magenta')\n",
        "\n",
        "# отобразим модель #6\n",
        "f6x = np.linspace(0, hours_data[len(hours_data)], len(hours_data))\n",
        "f6y = f6(f6x)\n",
        "plt.plot(f6x, f6y, linewidth=1.0, color='red')\n",
        "\n",
        "plt.show()"
      ],
      "metadata": {
        "colab": {
          "base_uri": "https://localhost:8080/",
          "height": 295
        },
        "id": "Kj4PU07xixlJ",
        "outputId": "ceaf2070-c897-4f0c-a9f2-ba74fbacd3c4"
      },
      "execution_count": null,
      "outputs": [
        {
          "output_type": "display_data",
          "data": {
            "text/plain": [
              "<Figure size 432x288 with 1 Axes>"
            ],
            "image/png": "[encoded data removed]"
          },
          "metadata": {
            "needs_background": "light"
          }
        }
      ]
    },
    {
      "cell_type": "code",
      "source": [
        "divider = int(3.5*7*24)\n",
        "divider2 = int(4.1*7*24)\n",
        "print(divider, divider2)\n",
        "# print(hours_data.shape)\n",
        "hours_data_1, requests_data_1 = hours_data[:divider], requests_data[:divider]\n",
        "hours_data_2, requests_data_2 = hours_data[divider:divider2], requests_data[divider:divider2]\n",
        "\n",
        "hours_data_test, requests_data_test = hours_data[divider2:], requests_data[divider2:]\n",
        "\n",
        "print(requests_data_1.shape, requests_data_2.shape, requests_data_test.shape)"
      ],
      "metadata": {
        "colab": {
          "base_uri": "https://localhost:8080/"
        },
        "id": "FwdrtHwVcGi1",
        "outputId": "8f1fb463-5064-42fe-9ded-864d3ab81d80"
      },
      "execution_count": null,
      "outputs": [
        {
          "output_type": "stream",
          "name": "stdout",
          "text": [
            "588 688\n",
            "(588,) (100,) (47,)\n"
          ]
        }
      ]
    },
    {
      "cell_type": "code",
      "source": [
        "f3p, residuals, rank, sv, rcond = np.polyfit(hours_data_1, requests_data_1, 3, full=True)\n",
        "f3 = np.poly1d(f3p)\n",
        "print(f\"MSE (для данных ДО 3.5 недели)= {error(f3, hours_data_1, requests_data_1):.5}\")\n",
        "print(f\"MSE (только для данных с 3.5 недели)= {error(f3, hours_data_2, requests_data_2):.5}\")"
      ],
      "metadata": {
        "colab": {
          "base_uri": "https://localhost:8080/"
        },
        "id": "B848_VHJcI2c",
        "outputId": "7f309f2d-cc81-45e5-f435-395dc5136e60"
      },
      "execution_count": null,
      "outputs": [
        {
          "output_type": "stream",
          "name": "stdout",
          "text": [
            "MSE (для данных ДО 3.5 недели)= 1.0159e+08\n",
            "MSE (только для данных с 3.5 недели)= 2.3315e+07\n"
          ]
        }
      ]
    },
    {
      "cell_type": "code",
      "source": [
        "f20p, residuals, rank, sv, rcond = np.polyfit(hours_data_2, requests_data_2, 20, full=True)\n",
        "f20 = np.poly1d(f20p)\n",
        "print(f\"MSE (для данных c 3.5 недели по 4.1 недели)= {error(f20, hours_data_2, requests_data_2):.5}\")\n",
        "print(f\"MSE (только для данных с 3.5 недели)= {error(f20, hours_data_test, requests_data_test):.5}\")"
      ],
      "metadata": {
        "colab": {
          "base_uri": "https://localhost:8080/"
        },
        "id": "amkLRhu2cIv3",
        "outputId": "f2f8d2e8-1495-41ab-c9a4-5e3cb145f2f2"
      },
      "execution_count": null,
      "outputs": [
        {
          "output_type": "stream",
          "name": "stdout",
          "text": [
            "MSE (для данных c 3.5 недели по 4.1 недели)= 9.9735e+06\n",
            "MSE (только для данных с 3.5 недели)= 1.0232e+15\n"
          ]
        }
      ]
    },
    {
      "cell_type": "markdown",
      "source": [
        "# Ответить на вопрос\n",
        "\n",
        "Какая модель для гипотезы, при которой весь набор данных представляет собой два диапазона значений (от 0 недели до 3.5 недели и с 3.5 недели до конца), подходит наилучшим образом?\n",
        "Модель, в данном случае, это степень полинома. \n",
        "Мы уже знаем (см. ячейку выше), что степень полинома 20 плохо подходит для тестовых данных (hours_data_test и requests_data_test) потому что ошибка для тестовых данных на 9 порядков выше, чем ошибка для тренировочного набора данных."
      ],
      "metadata": {
        "id": "l4jKT8rPcNAt"
      }
    },
    {
      "cell_type": "code",
      "source": [
        "\n",
        "print(\"Полином степени 1\")\n",
        "print(f\"MSE (для данных c 3.5 недели по 4.1 недели)= {error(f1, hours_data_1, requests_data_1):.5}\")\n",
        "print(f\"MSE (только для данных с 3.5 недели)= {error(f1, hours_data_2, requests_data_2):.5}\\n\")\n",
        "\n",
        "print(\"Полином степени 2\")\n",
        "print(f\"MSE (для данных c 3.5 недели по 4.1 недели)= {error(f2, hours_data_1, requests_data_1):.5}\")\n",
        "print(f\"MSE (только для данных с 3.5 недели)= {error(f2, hours_data_2, requests_data_2):.5}\\n\")\n",
        "\n",
        "print(\"Полином степени 3\")\n",
        "print(f\"MSE (для данных c 3.5 недели по 4.1 недели)= {error(f3, hours_data_1, requests_data_1):.5}\")\n",
        "print(f\"MSE (только для данных с 3.5 недели)= {error(f3, hours_data_2, requests_data_2):.5}\\n\")\n",
        "\n",
        "print(\"Полином степени 4\")\n",
        "print(f\"MSE (для данных c 3.5 недели по 4.1 недели)= {error(f4, hours_data_1, requests_data_1):.5}\\n\")\n",
        "print(f\"MSE (только для данных с 3.5 недели)= {error(f4, hours_data_2, requests_data_2):.5}\\n\")\n",
        "\n",
        "print(\"Полином степени 5\")\n",
        "print(f\"MSE (для данных c 3.5 недели по 4.1 недели)= {error(f5, hours_data_1, requests_data_1):.5}\")\n",
        "print(f\"MSE (только для данных с 3.5 недели)= {error(f5, hours_data_2, requests_data_2):.5}\\n\")\n",
        "\n",
        "print(\"Полином степени 6\")\n",
        "print(f\"MSE (для данных c 3.5 недели по 4.1 недели)= {error(f6, hours_data_1, requests_data_1):.5}\")\n",
        "print(f\"MSE (только для данных с 3.5 недели)= {error(f6, hours_data_2, requests_data_2):.5}\")"
      ],
      "metadata": {
        "colab": {
          "base_uri": "https://localhost:8080/"
        },
        "id": "EddVQz8dxRLD",
        "outputId": "414355b0-3414-447c-f57b-555648fad9b0"
      },
      "execution_count": null,
      "outputs": [
        {
          "output_type": "stream",
          "name": "stdout",
          "text": [
            "Полином степени 1\n",
            "MSE (для данных c 3.5 недели по 4.1 недели)= 1.7234e+08\n",
            "MSE (только для данных с 3.5 недели)= 3.4456e+07\n",
            "\n",
            "Полином степени 2\n",
            "MSE (для данных c 3.5 недели по 4.1 недели)= 1.1887e+08\n",
            "MSE (только для данных с 3.5 недели)= 2.9709e+07\n",
            "\n",
            "Полином степени 3\n",
            "MSE (для данных c 3.5 недели по 4.1 недели)= 1.0159e+08\n",
            "MSE (только для данных с 3.5 недели)= 2.3315e+07\n",
            "\n",
            "Полином степени 4\n",
            "MSE (для данных c 3.5 недели по 4.1 недели)= 1.0311e+08\n",
            "\n",
            "MSE (только для данных с 3.5 недели)= 1.335e+07\n",
            "\n",
            "Полином степени 5\n",
            "MSE (для данных c 3.5 недели по 4.1 недели)= 1.0033e+08\n",
            "MSE (только для данных с 3.5 недели)= 1.2925e+07\n",
            "\n",
            "Полином степени 6\n",
            "MSE (для данных c 3.5 недели по 4.1 недели)= 9.1187e+07\n",
            "MSE (только для данных с 3.5 недели)= 1.1382e+07\n"
          ]
        }
      ]
    }
  ],
  "metadata": {
    "colab": {
      "name": "PROG6_lab5.ipynb",
      "provenance": []
    },
    "kernelspec": {
      "display_name": "Python 3",
      "name": "python3"
    },
    "language_info": {
      "name": "python"
    }
  },
  "nbformat": 4,
  "nbformat_minor": 0
}